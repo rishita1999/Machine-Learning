{
 "cells": [
  {
   "cell_type": "code",
   "execution_count": 3,
   "metadata": {},
   "outputs": [
    {
     "name": "stdout",
     "output_type": "stream",
     "text": [
      "Enter the name of the Person : Rishu\n",
      "1\n",
      "2\n",
      "3\n",
      "4\n",
      "5\n",
      "6\n",
      "7\n",
      "8\n",
      "9\n",
      "10\n",
      "11\n",
      "(11, 30000)\n",
      "Data Successfully saved at ./data/Rishu.npy\n"
     ]
    }
   ],
   "source": [
    "import cv2\n",
    "import numpy as np\n",
    "cap = cv2.VideoCapture(0)\n",
    "face_cascade = cv2.CascadeClassifier(\"haarcascade_frontalface_alt.xml\")\n",
    "\n",
    "skip = 0\n",
    "face_data = []\n",
    "dataset_path = './data/'\n",
    "file_name = input(\"Enter the name of the Person : \")\n",
    "\n",
    "while True:\n",
    "    ret,frame = cap.read()\n",
    "    gray_frame = cv2.cvtColor(frame, cv2.COLOR_BGR2GRAY)\n",
    "    if ret == False:\n",
    "        continue\n",
    "    faces = face_cascade.detectMultiScale(gray_frame,1.3,5) # 1.3 is scaling_factor and 5 is no. of neighbours\n",
    "    if(len(faces)==0):\n",
    "        continue\n",
    "    # Sort the faces acc to area\n",
    "    faces = sorted(faces, key = lambda f:f[2]*f[3])\n",
    "    \n",
    "    # pick the last face (bcz it is the largest face acc to area f[2]*f[3])\n",
    "    for face in faces[-1:]:\n",
    "        x,y,w,h = face\n",
    "        cv2.rectangle(frame, (x,y), (x+w, y+h), (255,0,0), 2)\n",
    "   # Extract(crop out of required face) : region of interest\n",
    "        offset = 10 # Add some padding\n",
    "        face_section = frame[y-offset:y+h+offset, x-offset:x+w+offset]\n",
    "        face_section = cv2.resize(face_section, (100,100))\n",
    "        #print (face_section)\n",
    "        skip += 1\n",
    "        if skip%10 == 0:\n",
    "            face_data.append(face_section)\n",
    "            print(len(face_data)) \n",
    "    cv2.imshow(\"Video Frame\", frame)\n",
    "    cv2.imshow(\"Face Section\", face_section)\n",
    "    \n",
    "    key_pressed = cv2.waitKey(1) & 0xFF\n",
    "    if key_pressed == ord('q'):\n",
    "        break\n",
    "# convert our face_list array into numpy array\n",
    "face_data = np.asarray(face_data)\n",
    "face_data = face_data.reshape((face_data.shape[0],-1))\n",
    "print(face_data.shape)\n",
    "\n",
    "# save this data into file system\n",
    "np.save(dataset_path + file_name + '.npy', face_data)\n",
    "print(\"Data Successfully saved at \"+ dataset_path + file_name + '.npy') \n",
    "\n",
    "cap.release()\n",
    "cv2.destroyAllWindows()"
   ]
  },
  {
   "cell_type": "code",
   "execution_count": null,
   "metadata": {},
   "outputs": [],
   "source": []
  },
  {
   "cell_type": "code",
   "execution_count": null,
   "metadata": {},
   "outputs": [],
   "source": []
  },
  {
   "cell_type": "code",
   "execution_count": null,
   "metadata": {},
   "outputs": [],
   "source": []
  }
 ],
 "metadata": {
  "kernelspec": {
   "display_name": "Python 3",
   "language": "python",
   "name": "python3"
  },
  "language_info": {
   "codemirror_mode": {
    "name": "ipython",
    "version": 3
   },
   "file_extension": ".py",
   "mimetype": "text/x-python",
   "name": "python",
   "nbconvert_exporter": "python",
   "pygments_lexer": "ipython3",
   "version": "3.7.2"
  }
 },
 "nbformat": 4,
 "nbformat_minor": 4
}
